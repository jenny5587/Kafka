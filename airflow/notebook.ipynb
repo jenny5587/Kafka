{
 "cells": [
  {
   "cell_type": "code",
   "execution_count": 6,
   "metadata": {},
   "outputs": [],
   "source": [
    "import pyupbit\n",
    "import pandas as pd\n",
    "import boto3\n",
    "from datetime import datetime\n",
    "import numpy as np\n",
    "from numpy import nan\n",
    "import os\n",
    "\n",
    "ticker = 'KRW-BTC'\n",
    "# KRW-BTC(원화마켓 비트코인 시세)를 조회\n",
    "interval = 'minute1'\n",
    "to = datetime.now().strftime('%Y-%m-%d %H:%M')\n",
    "count = 60\n",
    "# count = 최근 몇일지의 데이터를 조회할지\n",
    "df=pyupbit.get_ohlcv(ticker=ticker,interval=interval,to=to,count=count)\n",
    "# to = 출력할 max date time을 지정\n",
    "#  어떤 코인의 과거 가격 내역을 조회하려면 get_ohlcv method를 사용\n",
    "df=df.reset_index()\n",
    "df=df.rename(columns = {'index':'collect_time'})\n",
    "os.makedirs(f'/home/ubuntu/miniproject-upbit/data/{to}/')\n",
    "df.to_csv(f'/home/ubuntu/miniproject-upbit/data/{to}/data_{to}.csv',header=True)"
   ]
  },
  {
   "cell_type": "code",
   "execution_count": 5,
   "metadata": {},
   "outputs": [
    {
     "data": {
      "text/html": [
       "<div>\n",
       "<style scoped>\n",
       "    .dataframe tbody tr th:only-of-type {\n",
       "        vertical-align: middle;\n",
       "    }\n",
       "\n",
       "    .dataframe tbody tr th {\n",
       "        vertical-align: top;\n",
       "    }\n",
       "\n",
       "    .dataframe thead th {\n",
       "        text-align: right;\n",
       "    }\n",
       "</style>\n",
       "<table border=\"1\" class=\"dataframe\">\n",
       "  <thead>\n",
       "    <tr style=\"text-align: right;\">\n",
       "      <th></th>\n",
       "      <th>collect_time</th>\n",
       "      <th>open</th>\n",
       "      <th>high</th>\n",
       "      <th>low</th>\n",
       "      <th>close</th>\n",
       "      <th>volume</th>\n",
       "      <th>value</th>\n",
       "    </tr>\n",
       "  </thead>\n",
       "  <tbody>\n",
       "    <tr>\n",
       "      <th>0</th>\n",
       "      <td>2023-08-27 16:24:00</td>\n",
       "      <td>35410000.0</td>\n",
       "      <td>35429000.0</td>\n",
       "      <td>35409000.0</td>\n",
       "      <td>35410000.0</td>\n",
       "      <td>0.288863</td>\n",
       "      <td>1.022859e+07</td>\n",
       "    </tr>\n",
       "    <tr>\n",
       "      <th>1</th>\n",
       "      <td>2023-08-27 16:25:00</td>\n",
       "      <td>35410000.0</td>\n",
       "      <td>35429000.0</td>\n",
       "      <td>35409000.0</td>\n",
       "      <td>35428000.0</td>\n",
       "      <td>0.154366</td>\n",
       "      <td>5.467107e+06</td>\n",
       "    </tr>\n",
       "    <tr>\n",
       "      <th>2</th>\n",
       "      <td>2023-08-27 16:26:00</td>\n",
       "      <td>35428000.0</td>\n",
       "      <td>35428000.0</td>\n",
       "      <td>35409000.0</td>\n",
       "      <td>35428000.0</td>\n",
       "      <td>0.453815</td>\n",
       "      <td>1.607388e+07</td>\n",
       "    </tr>\n",
       "    <tr>\n",
       "      <th>3</th>\n",
       "      <td>2023-08-27 16:27:00</td>\n",
       "      <td>35428000.0</td>\n",
       "      <td>35428000.0</td>\n",
       "      <td>35409000.0</td>\n",
       "      <td>35410000.0</td>\n",
       "      <td>0.242650</td>\n",
       "      <td>8.592411e+06</td>\n",
       "    </tr>\n",
       "    <tr>\n",
       "      <th>4</th>\n",
       "      <td>2023-08-27 16:28:00</td>\n",
       "      <td>35410000.0</td>\n",
       "      <td>35424000.0</td>\n",
       "      <td>35410000.0</td>\n",
       "      <td>35410000.0</td>\n",
       "      <td>0.293294</td>\n",
       "      <td>1.038888e+07</td>\n",
       "    </tr>\n",
       "  </tbody>\n",
       "</table>\n",
       "</div>"
      ],
      "text/plain": [
       "         collect_time        open        high         low       close  \\\n",
       "0 2023-08-27 16:24:00  35410000.0  35429000.0  35409000.0  35410000.0   \n",
       "1 2023-08-27 16:25:00  35410000.0  35429000.0  35409000.0  35428000.0   \n",
       "2 2023-08-27 16:26:00  35428000.0  35428000.0  35409000.0  35428000.0   \n",
       "3 2023-08-27 16:27:00  35428000.0  35428000.0  35409000.0  35410000.0   \n",
       "4 2023-08-27 16:28:00  35410000.0  35424000.0  35410000.0  35410000.0   \n",
       "\n",
       "     volume         value  \n",
       "0  0.288863  1.022859e+07  \n",
       "1  0.154366  5.467107e+06  \n",
       "2  0.453815  1.607388e+07  \n",
       "3  0.242650  8.592411e+06  \n",
       "4  0.293294  1.038888e+07  "
      ]
     },
     "execution_count": 5,
     "metadata": {},
     "output_type": "execute_result"
    }
   ],
   "source": [
    "df.head()\n",
    "# pyupbit data 조회"
   ]
  },
  {
   "cell_type": "code",
   "execution_count": 7,
   "metadata": {},
   "outputs": [
    {
     "name": "stdout",
     "output_type": "stream",
     "text": [
      "/home/ubuntu/miniproject-upbit/data/2023-08-27 08:25/data_2023-08-27 08:25.csv을(를) pyupbit-dev-s3/data/data_2023-08-27 08:25.csv로 업로드했습니다.\n"
     ]
    }
   ],
   "source": [
    "from dotenv import load_dotenv\n",
    "import os \n",
    "import boto3\n",
    "\n",
    "# load .env\n",
    "load_dotenv()\n",
    "\n",
    "aws_access_key_id = os.environ.get('aws_access_key_id')\n",
    "aws_secret_access_key = os.environ.get('aws_secret_access_key')\n",
    "# S3 클라이언트 생성\n",
    "s3 = boto3.client('s3',\n",
    "         aws_access_key_id=aws_access_key_id,\n",
    "         aws_secret_access_key= aws_secret_access_key)\n",
    "# 저장할 로컬 파일 경로와 S3 버킷, 객체 키 설정\n",
    "local_file_path = f'/home/ubuntu/miniproject-upbit/data/{to}/data_{to}.csv'\n",
    "s3_bucket = 'pyupbit-dev-s3'\n",
    "s3_object_key = f'data/data_{to}.csv'  # 원하는 S3 객체 키\n",
    "# S3에 데이터 업로드\n",
    "s3.upload_file(local_file_path, s3_bucket, s3_object_key)\n",
    "print(f'{local_file_path}을(를) {s3_bucket}/{s3_object_key}로 업로드했습니다.')\n",
    "os.remove(f'/home/ubuntu/miniproject-upbit/data/{to}/data_{to}.csv')"
   ]
  }
 ],
 "metadata": {
  "kernelspec": {
   "display_name": "venv-test-airflow",
   "language": "python",
   "name": "python3"
  },
  "language_info": {
   "codemirror_mode": {
    "name": "ipython",
    "version": 3
   },
   "file_extension": ".py",
   "mimetype": "text/x-python",
   "name": "python",
   "nbconvert_exporter": "python",
   "pygments_lexer": "ipython3",
   "version": "3.8.10"
  },
  "orig_nbformat": 4
 },
 "nbformat": 4,
 "nbformat_minor": 2
}
